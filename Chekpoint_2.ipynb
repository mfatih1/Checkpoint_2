{
 "cells": [
  {
   "cell_type": "code",
   "execution_count": 1,
   "id": "8bc5e5be",
   "metadata": {},
   "outputs": [
    {
     "name": "stdout",
     "output_type": "stream",
     "text": [
      "[2002, 2009, 2016, 2023, 2037, 2044, 2051, 2058, 2072, 2079, 2086, 2093, 2107, 2114, 2121, 2128, 2142, 2149, 2156, 2163, 2177, 2184, 2191, 2198, 2212, 2219, 2226, 2233, 2247, 2254, 2261, 2268, 2282, 2289, 2296, 2303, 2317, 2324, 2331, 2338, 2352, 2359, 2366, 2373, 2387, 2394, 2401, 2408, 2422, 2429, 2436, 2443, 2457, 2464, 2471, 2478, 2492, 2499, 2506, 2513, 2527, 2534, 2541, 2548, 2562, 2569, 2576, 2583, 2597, 2604, 2611, 2618, 2632, 2639, 2646, 2653, 2667, 2674, 2681, 2688, 2702, 2709, 2716, 2723, 2737, 2744, 2751, 2758, 2772, 2779, 2786, 2793, 2807, 2814, 2821, 2828, 2842, 2849, 2856, 2863, 2877, 2884, 2891, 2898, 2912, 2919, 2926, 2933, 2947, 2954, 2961, 2968, 2982, 2989, 2996, 3003, 3017, 3024, 3031, 3038, 3052, 3059, 3066, 3073, 3087, 3094, 3101, 3108, 3122, 3129, 3136, 3143, 3157, 3164, 3171, 3178, 3192, 3199]\n"
     ]
    }
   ],
   "source": [
    "#Question1:\n",
    "def Question1(begin,end,divby,notmulby):\n",
    "    L=[]\n",
    "    for i in range (begin,end+1,1):\n",
    "            if (i%divby)==0 and (i%notmulby)!=0:\n",
    "                    L.append(i)  \n",
    "    print(L)\n",
    "Question1(2000,3200,7,5)"
   ]
  },
  {
   "cell_type": "code",
   "execution_count": 2,
   "id": "7fc0b0fd",
   "metadata": {},
   "outputs": [
    {
     "name": "stdout",
     "output_type": "stream",
     "text": [
      " 3! = 6\n"
     ]
    }
   ],
   "source": [
    "#Question2:\n",
    "def Question2(n,x=1):\n",
    "    for i in range(1,n+1):\n",
    "        x=x*i\n",
    "    print(\" \"+ str(n) + \"! = \" +str(x))\n",
    "Question2(3)"
   ]
  },
  {
   "cell_type": "code",
   "execution_count": 3,
   "id": "94d2f099",
   "metadata": {},
   "outputs": [
    {
     "data": {
      "text/plain": [
       "{1: 1, 2: 4}"
      ]
     },
     "execution_count": 3,
     "metadata": {},
     "output_type": "execute_result"
    }
   ],
   "source": [
    "#Question3:\n",
    "def Question3(n):\n",
    "    d={}\n",
    "    for i in range(1,n+1):\n",
    "        d[i]=i*i\n",
    "    return d\n",
    "Question3(2)"
   ]
  },
  {
   "cell_type": "code",
   "execution_count": 5,
   "id": "5719ed6b",
   "metadata": {},
   "outputs": [
    {
     "name": "stdout",
     "output_type": "stream",
     "text": [
      "'mohamd'\n"
     ]
    }
   ],
   "source": [
    "#Question4:\n",
    "def missing_char(s,n,a=\"\"):\n",
    "    l=list(s)\n",
    "    del l[n]\n",
    "    for i in l:   \n",
    "         a=a+i\n",
    "    print(\"'\"+a+\"'\")\n",
    "missing_char('mohamed',5)"
   ]
  },
  {
   "cell_type": "code",
   "execution_count": 6,
   "id": "ddc38f64",
   "metadata": {},
   "outputs": [
    {
     "name": "stdout",
     "output_type": "stream",
     "text": [
      "[[0 1]\n",
      " [2 3]\n",
      " [4 5]]\n",
      "[[0, 1], [2, 3], [4, 5]]\n"
     ]
    }
   ],
   "source": [
    "#Question5:\n",
    "import numpy as np\n",
    "NP=np.array([[0,1],[2,3],[4,5]])\n",
    "print(NP)\n",
    "l=[]\n",
    "l=NP.tolist()\n",
    "print(l)"
   ]
  },
  {
   "cell_type": "code",
   "execution_count": 7,
   "id": "75f5f144",
   "metadata": {},
   "outputs": [
    {
     "name": "stdout",
     "output_type": "stream",
     "text": [
      "[[ 1. -1.]\n",
      " [-1.  1.]]\n"
     ]
    }
   ],
   "source": [
    "#Question6:\n",
    "import numpy as np\n",
    "\n",
    "A1=np.array([0,1,2])\n",
    "A2=np.array([2,1,0])\n",
    "Question6=np.cov(A1,A2)\n",
    "print(Question6)"
   ]
  },
  {
   "cell_type": "code",
   "execution_count": 8,
   "id": "ce8473d8",
   "metadata": {},
   "outputs": [
    {
     "name": "stdout",
     "output_type": "stream",
     "text": [
      "'24,22,18'\n"
     ]
    }
   ],
   "source": [
    "#Question7:\n",
    "import math \n",
    "D=\"100,150,180\"\n",
    "L=D.split(\",\")\n",
    "S=\"\"\n",
    "for i in L :\n",
    "    Q=str(round(math.sqrt(((2 * 50 * int(i)/30)))))\n",
    "    S=Q+','+S\n",
    "missing_char(S,8)"
   ]
  },
  {
   "cell_type": "code",
   "execution_count": null,
   "id": "0dc8e055",
   "metadata": {},
   "outputs": [],
   "source": []
  }
 ],
 "metadata": {
  "kernelspec": {
   "display_name": "Python 3 (ipykernel)",
   "language": "python",
   "name": "python3"
  },
  "language_info": {
   "codemirror_mode": {
    "name": "ipython",
    "version": 3
   },
   "file_extension": ".py",
   "mimetype": "text/x-python",
   "name": "python",
   "nbconvert_exporter": "python",
   "pygments_lexer": "ipython3",
   "version": "3.9.12"
  }
 },
 "nbformat": 4,
 "nbformat_minor": 5
}
